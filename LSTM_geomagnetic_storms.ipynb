{
 "cells": [
  {
   "cell_type": "code",
   "execution_count": null,
   "id": "8111f987-46e5-4952-9be3-3fa288d7a530",
   "metadata": {
    "tags": []
   },
   "outputs": [],
   "source": [
    "!pip install gdown"
   ]
  },
  {
   "cell_type": "code",
   "execution_count": null,
   "id": "065dc2d1-a6e4-4158-abd1-8cf5ed1de5fc",
   "metadata": {
    "tags": []
   },
   "outputs": [],
   "source": [
    "import gdown\n",
    "\n",
    "url_train = 'https://www.dropbox.com/s/hcblxnxzg1qrjsg/gicDB_5min.csv?dl=1'\n",
    "\n",
    "training_data = \"gicDB.csv\"\n",
    "\n",
    "\n",
    "gdown.download(url_train, training_data, quiet=False)\n",
    "\n",
    "import pandas as pd\n",
    "\n",
    "# Load the datasets\n",
    "df_train = pd.read_csv(\"gicDB.csv\")\n"
   ]
  },
  {
   "cell_type": "code",
   "execution_count": null,
   "id": "dc60a27e-0aeb-46aa-9ed7-072033e8b296",
   "metadata": {
    "tags": []
   },
   "outputs": [],
   "source": [
    "import pandas as pd\n",
    "import datetime\n",
    "import seaborn as sns\n",
    "import matplotlib.pyplot as plt\n",
    "import numpy as np\n",
    "import json\n",
    "import os\n",
    "import sys"
   ]
  },
  {
   "cell_type": "code",
   "execution_count": null,
   "id": "23f31161-4fe3-4420-992b-465abd422822",
   "metadata": {
    "tags": []
   },
   "outputs": [],
   "source": [
    "cwd = os.getcwd()\n",
    "data_path = os.path.join(cwd,'Data')\n",
    "if not os.path.exists('Data'):\n",
    "    os.makedirs('Data')"
   ]
  },
  {
   "cell_type": "code",
   "execution_count": 5,
   "id": "a39438cb-c84b-49cf-a427-7123be6c6723",
   "metadata": {
    "tags": []
   },
   "outputs": [
    {
     "data": {
      "text/html": [
       "<div>\n",
       "<style scoped>\n",
       "    .dataframe tbody tr th:only-of-type {\n",
       "        vertical-align: middle;\n",
       "    }\n",
       "\n",
       "    .dataframe tbody tr th {\n",
       "        vertical-align: top;\n",
       "    }\n",
       "\n",
       "    .dataframe thead th {\n",
       "        text-align: right;\n",
       "    }\n",
       "</style>\n",
       "<table border=\"1\" class=\"dataframe\">\n",
       "  <thead>\n",
       "    <tr style=\"text-align: right;\">\n",
       "      <th></th>\n",
       "      <th>Type</th>\n",
       "      <th>Dataset</th>\n",
       "      <th>Year</th>\n",
       "      <th>Day</th>\n",
       "      <th>Hour</th>\n",
       "      <th>Minute</th>\n",
       "      <th>Field magnitude average nT</th>\n",
       "      <th>BX nT (GSE GSM)</th>\n",
       "      <th>BY nT (GSE)</th>\n",
       "      <th>BZ nT (GSE)</th>\n",
       "      <th>BY nT (GSM)</th>\n",
       "      <th>BZ nT (GSM)</th>\n",
       "      <th>Speed km/s</th>\n",
       "      <th>Vx Velocity km/s</th>\n",
       "      <th>Vy Velocity km/s</th>\n",
       "      <th>Vz Velocity km/s</th>\n",
       "      <th>Proton Density n/cc</th>\n",
       "      <th>SYM/H nT</th>\n",
       "    </tr>\n",
       "  </thead>\n",
       "  <tbody>\n",
       "    <tr>\n",
       "      <th>0</th>\n",
       "      <td>Validation</td>\n",
       "      <td>V1</td>\n",
       "      <td>1998</td>\n",
       "      <td>118</td>\n",
       "      <td>0</td>\n",
       "      <td>0</td>\n",
       "      <td>4.35</td>\n",
       "      <td>2.51</td>\n",
       "      <td>0.66</td>\n",
       "      <td>2.60</td>\n",
       "      <td>-0.68</td>\n",
       "      <td>2.60</td>\n",
       "      <td>435.9</td>\n",
       "      <td>-435.6</td>\n",
       "      <td>8.4</td>\n",
       "      <td>13.2</td>\n",
       "      <td>5.19</td>\n",
       "      <td>-15</td>\n",
       "    </tr>\n",
       "    <tr>\n",
       "      <th>1</th>\n",
       "      <td>Validation</td>\n",
       "      <td>V1</td>\n",
       "      <td>1998</td>\n",
       "      <td>118</td>\n",
       "      <td>0</td>\n",
       "      <td>5</td>\n",
       "      <td>3.92</td>\n",
       "      <td>0.83</td>\n",
       "      <td>-0.39</td>\n",
       "      <td>0.67</td>\n",
       "      <td>-0.66</td>\n",
       "      <td>0.40</td>\n",
       "      <td>448.4</td>\n",
       "      <td>-448.1</td>\n",
       "      <td>3.9</td>\n",
       "      <td>-0.5</td>\n",
       "      <td>5.28</td>\n",
       "      <td>-15</td>\n",
       "    </tr>\n",
       "    <tr>\n",
       "      <th>2</th>\n",
       "      <td>Validation</td>\n",
       "      <td>V1</td>\n",
       "      <td>1998</td>\n",
       "      <td>118</td>\n",
       "      <td>0</td>\n",
       "      <td>10</td>\n",
       "      <td>5.60</td>\n",
       "      <td>-3.31</td>\n",
       "      <td>-3.02</td>\n",
       "      <td>-3.20</td>\n",
       "      <td>-1.10</td>\n",
       "      <td>-4.26</td>\n",
       "      <td>466.9</td>\n",
       "      <td>-466.5</td>\n",
       "      <td>-9.3</td>\n",
       "      <td>-16.2</td>\n",
       "      <td>4.51</td>\n",
       "      <td>-15</td>\n",
       "    </tr>\n",
       "    <tr>\n",
       "      <th>3</th>\n",
       "      <td>Validation</td>\n",
       "      <td>V1</td>\n",
       "      <td>1998</td>\n",
       "      <td>118</td>\n",
       "      <td>0</td>\n",
       "      <td>15</td>\n",
       "      <td>5.34</td>\n",
       "      <td>-2.94</td>\n",
       "      <td>-3.13</td>\n",
       "      <td>-3.09</td>\n",
       "      <td>-1.26</td>\n",
       "      <td>-4.22</td>\n",
       "      <td>464.6</td>\n",
       "      <td>-464.1</td>\n",
       "      <td>-9.7</td>\n",
       "      <td>-17.0</td>\n",
       "      <td>4.72</td>\n",
       "      <td>-15</td>\n",
       "    </tr>\n",
       "    <tr>\n",
       "      <th>4</th>\n",
       "      <td>Validation</td>\n",
       "      <td>V1</td>\n",
       "      <td>1998</td>\n",
       "      <td>118</td>\n",
       "      <td>0</td>\n",
       "      <td>20</td>\n",
       "      <td>5.44</td>\n",
       "      <td>-2.74</td>\n",
       "      <td>-2.84</td>\n",
       "      <td>-3.68</td>\n",
       "      <td>-0.73</td>\n",
       "      <td>-4.59</td>\n",
       "      <td>463.6</td>\n",
       "      <td>-463.0</td>\n",
       "      <td>-10.2</td>\n",
       "      <td>-21.1</td>\n",
       "      <td>4.42</td>\n",
       "      <td>-14</td>\n",
       "    </tr>\n",
       "  </tbody>\n",
       "</table>\n",
       "</div>"
      ],
      "text/plain": [
       "         Type Dataset  Year  Day  Hour  Minute  Field magnitude average nT  \\\n",
       "0  Validation      V1  1998  118     0       0                        4.35   \n",
       "1  Validation      V1  1998  118     0       5                        3.92   \n",
       "2  Validation      V1  1998  118     0      10                        5.60   \n",
       "3  Validation      V1  1998  118     0      15                        5.34   \n",
       "4  Validation      V1  1998  118     0      20                        5.44   \n",
       "\n",
       "   BX nT (GSE GSM)  BY nT (GSE)  BZ nT (GSE)  BY nT (GSM)  BZ nT (GSM)  \\\n",
       "0             2.51         0.66         2.60        -0.68         2.60   \n",
       "1             0.83        -0.39         0.67        -0.66         0.40   \n",
       "2            -3.31        -3.02        -3.20        -1.10        -4.26   \n",
       "3            -2.94        -3.13        -3.09        -1.26        -4.22   \n",
       "4            -2.74        -2.84        -3.68        -0.73        -4.59   \n",
       "\n",
       "   Speed km/s  Vx Velocity km/s  Vy Velocity km/s  Vz Velocity km/s  \\\n",
       "0       435.9            -435.6               8.4              13.2   \n",
       "1       448.4            -448.1               3.9              -0.5   \n",
       "2       466.9            -466.5              -9.3             -16.2   \n",
       "3       464.6            -464.1              -9.7             -17.0   \n",
       "4       463.6            -463.0             -10.2             -21.1   \n",
       "\n",
       "   Proton Density n/cc  SYM/H nT  \n",
       "0                 5.19       -15  \n",
       "1                 5.28       -15  \n",
       "2                 4.51       -15  \n",
       "3                 4.72       -15  \n",
       "4                 4.42       -14  "
      ]
     },
     "execution_count": 5,
     "metadata": {},
     "output_type": "execute_result"
    }
   ],
   "source": [
    "df_train.head()"
   ]
  },
  {
   "cell_type": "code",
   "execution_count": 6,
   "id": "098d36ab-02b0-4630-99d9-a9fbf735fc9f",
   "metadata": {
    "tags": []
   },
   "outputs": [],
   "source": [
    "\n",
    "# Get month and day to build proper data field\n",
    "df_train.loc[:,'Date'] = pd.to_datetime((df_train.Year*1000+df_train.Day).apply(str), format = \"%Y%j\")\n",
    "df_train['month'] = df_train['Date'].dt.month\n",
    "df_train['day'] = df_train['Date'].dt.day\n",
    "\n",
    "# Date field\n",
    "df_train[\"time\"] = pd.to_datetime(df_train[['Year','month','day','Hour','Minute']])\n",
    "df_train[\"date\"] = pd.to_datetime((df_train.Year*1000+df_train.Day).apply(str), format = \"%Y%j\")\n",
    "df_train['month'] = df_train['date'].dt.month\n",
    "df_train['day'] = df_train['date'].dt.day\n",
    "\n",
    "df_train[\"time\"] = pd.to_datetime(df_train[['Year','month','day','Hour','Minute']])\n",
    "df_train = df_train.sort_values(by='time')\n",
    "\n",
    "df_train.interpolate(method ='linear', limit_direction ='forward')\n",
    "\n",
    "df_train[\"SYM/H nT\"] = df_train[\"SYM/H nT\"].astype(np.float64)\n",
    "df_train[\"BX nT (GSE GSM)\"] = df_train[\"BX nT (GSE GSM)\"].astype(np.float64)\n",
    "df_train[\"BY nT (GSM)\"] = df_train[\"BY nT (GSM)\"].astype(np.float64)\n",
    "df_train[\"BZ nT (GSM)\"] = df_train[\"BZ nT (GSM)\"].astype(np.float64)\n",
    "\n",
    "# Add new variables to dataframe\n",
    "df_train[\"B**2\"] = df_train[\"BX nT (GSE GSM)\"]**2+df_train[\"BY nT (GSM)\"]**2+df_train[\"BZ nT (GSM)\"]**2\n",
    "df_train[\"BY**2\"] = df_train[\"BY nT (GSM)\"]**2"
   ]
  },
  {
   "cell_type": "code",
   "execution_count": null,
   "id": "ea85167d-8390-4d9c-811c-378daa3b4cd9",
   "metadata": {
    "tags": []
   },
   "outputs": [],
   "source": []
  },
  {
   "cell_type": "code",
   "execution_count": 7,
   "id": "aca5210d-f2b4-4195-896f-42007596086b",
   "metadata": {
    "tags": []
   },
   "outputs": [
    {
     "data": {
      "text/html": [
       "<div>\n",
       "<style scoped>\n",
       "    .dataframe tbody tr th:only-of-type {\n",
       "        vertical-align: middle;\n",
       "    }\n",
       "\n",
       "    .dataframe tbody tr th {\n",
       "        vertical-align: top;\n",
       "    }\n",
       "\n",
       "    .dataframe thead th {\n",
       "        text-align: right;\n",
       "    }\n",
       "</style>\n",
       "<table border=\"1\" class=\"dataframe\">\n",
       "  <thead>\n",
       "    <tr style=\"text-align: right;\">\n",
       "      <th></th>\n",
       "      <th>Type</th>\n",
       "      <th>Dataset</th>\n",
       "      <th>Year</th>\n",
       "      <th>Day</th>\n",
       "      <th>Hour</th>\n",
       "      <th>Minute</th>\n",
       "      <th>Field magnitude average nT</th>\n",
       "      <th>BX nT (GSE GSM)</th>\n",
       "      <th>BY nT (GSE)</th>\n",
       "      <th>BZ nT (GSE)</th>\n",
       "      <th>...</th>\n",
       "      <th>Vz Velocity km/s</th>\n",
       "      <th>Proton Density n/cc</th>\n",
       "      <th>SYM/H nT</th>\n",
       "      <th>Date</th>\n",
       "      <th>month</th>\n",
       "      <th>day</th>\n",
       "      <th>time</th>\n",
       "      <th>date</th>\n",
       "      <th>B**2</th>\n",
       "      <th>BY**2</th>\n",
       "    </tr>\n",
       "  </thead>\n",
       "  <tbody>\n",
       "    <tr>\n",
       "      <th>69408</th>\n",
       "      <td>Train</td>\n",
       "      <td>T1</td>\n",
       "      <td>1998</td>\n",
       "      <td>45</td>\n",
       "      <td>0</td>\n",
       "      <td>0</td>\n",
       "      <td>5.08</td>\n",
       "      <td>1.60</td>\n",
       "      <td>-4.44</td>\n",
       "      <td>-0.58</td>\n",
       "      <td>...</td>\n",
       "      <td>16.6</td>\n",
       "      <td>5.45</td>\n",
       "      <td>-12.0</td>\n",
       "      <td>1998-02-14</td>\n",
       "      <td>2</td>\n",
       "      <td>14</td>\n",
       "      <td>1998-02-14 00:00:00</td>\n",
       "      <td>1998-02-14</td>\n",
       "      <td>22.6154</td>\n",
       "      <td>12.6025</td>\n",
       "    </tr>\n",
       "    <tr>\n",
       "      <th>69409</th>\n",
       "      <td>Train</td>\n",
       "      <td>T1</td>\n",
       "      <td>1998</td>\n",
       "      <td>45</td>\n",
       "      <td>0</td>\n",
       "      <td>5</td>\n",
       "      <td>4.97</td>\n",
       "      <td>3.90</td>\n",
       "      <td>-1.72</td>\n",
       "      <td>1.24</td>\n",
       "      <td>...</td>\n",
       "      <td>33.5</td>\n",
       "      <td>6.04</td>\n",
       "      <td>-12.0</td>\n",
       "      <td>1998-02-14</td>\n",
       "      <td>2</td>\n",
       "      <td>14</td>\n",
       "      <td>1998-02-14 00:05:00</td>\n",
       "      <td>1998-02-14</td>\n",
       "      <td>19.7062</td>\n",
       "      <td>4.4521</td>\n",
       "    </tr>\n",
       "    <tr>\n",
       "      <th>69410</th>\n",
       "      <td>Train</td>\n",
       "      <td>T1</td>\n",
       "      <td>1998</td>\n",
       "      <td>45</td>\n",
       "      <td>0</td>\n",
       "      <td>10</td>\n",
       "      <td>4.91</td>\n",
       "      <td>4.01</td>\n",
       "      <td>-1.20</td>\n",
       "      <td>2.53</td>\n",
       "      <td>...</td>\n",
       "      <td>45.9</td>\n",
       "      <td>5.78</td>\n",
       "      <td>-13.0</td>\n",
       "      <td>1998-02-14</td>\n",
       "      <td>2</td>\n",
       "      <td>14</td>\n",
       "      <td>1998-02-14 00:10:00</td>\n",
       "      <td>1998-02-14</td>\n",
       "      <td>23.9443</td>\n",
       "      <td>5.3361</td>\n",
       "    </tr>\n",
       "    <tr>\n",
       "      <th>69411</th>\n",
       "      <td>Train</td>\n",
       "      <td>T1</td>\n",
       "      <td>1998</td>\n",
       "      <td>45</td>\n",
       "      <td>0</td>\n",
       "      <td>15</td>\n",
       "      <td>4.84</td>\n",
       "      <td>3.90</td>\n",
       "      <td>-1.29</td>\n",
       "      <td>2.48</td>\n",
       "      <td>...</td>\n",
       "      <td>41.7</td>\n",
       "      <td>5.55</td>\n",
       "      <td>-13.0</td>\n",
       "      <td>1998-02-14</td>\n",
       "      <td>2</td>\n",
       "      <td>14</td>\n",
       "      <td>1998-02-14 00:15:00</td>\n",
       "      <td>1998-02-14</td>\n",
       "      <td>23.0597</td>\n",
       "      <td>5.5696</td>\n",
       "    </tr>\n",
       "    <tr>\n",
       "      <th>69412</th>\n",
       "      <td>Train</td>\n",
       "      <td>T1</td>\n",
       "      <td>1998</td>\n",
       "      <td>45</td>\n",
       "      <td>0</td>\n",
       "      <td>20</td>\n",
       "      <td>4.83</td>\n",
       "      <td>4.18</td>\n",
       "      <td>-1.24</td>\n",
       "      <td>2.01</td>\n",
       "      <td>...</td>\n",
       "      <td>43.0</td>\n",
       "      <td>5.94</td>\n",
       "      <td>-13.0</td>\n",
       "      <td>1998-02-14</td>\n",
       "      <td>2</td>\n",
       "      <td>14</td>\n",
       "      <td>1998-02-14 00:20:00</td>\n",
       "      <td>1998-02-14</td>\n",
       "      <td>23.0532</td>\n",
       "      <td>4.3264</td>\n",
       "    </tr>\n",
       "  </tbody>\n",
       "</table>\n",
       "<p>5 rows × 25 columns</p>\n",
       "</div>"
      ],
      "text/plain": [
       "        Type Dataset  Year  Day  Hour  Minute  Field magnitude average nT  \\\n",
       "69408  Train      T1  1998   45     0       0                        5.08   \n",
       "69409  Train      T1  1998   45     0       5                        4.97   \n",
       "69410  Train      T1  1998   45     0      10                        4.91   \n",
       "69411  Train      T1  1998   45     0      15                        4.84   \n",
       "69412  Train      T1  1998   45     0      20                        4.83   \n",
       "\n",
       "       BX nT (GSE GSM)  BY nT (GSE)  BZ nT (GSE)  ...  Vz Velocity km/s  \\\n",
       "69408             1.60        -4.44        -0.58  ...              16.6   \n",
       "69409             3.90        -1.72         1.24  ...              33.5   \n",
       "69410             4.01        -1.20         2.53  ...              45.9   \n",
       "69411             3.90        -1.29         2.48  ...              41.7   \n",
       "69412             4.18        -1.24         2.01  ...              43.0   \n",
       "\n",
       "       Proton Density n/cc  SYM/H nT       Date  month  day  \\\n",
       "69408                 5.45     -12.0 1998-02-14      2   14   \n",
       "69409                 6.04     -12.0 1998-02-14      2   14   \n",
       "69410                 5.78     -13.0 1998-02-14      2   14   \n",
       "69411                 5.55     -13.0 1998-02-14      2   14   \n",
       "69412                 5.94     -13.0 1998-02-14      2   14   \n",
       "\n",
       "                     time       date     B**2    BY**2  \n",
       "69408 1998-02-14 00:00:00 1998-02-14  22.6154  12.6025  \n",
       "69409 1998-02-14 00:05:00 1998-02-14  19.7062   4.4521  \n",
       "69410 1998-02-14 00:10:00 1998-02-14  23.9443   5.3361  \n",
       "69411 1998-02-14 00:15:00 1998-02-14  23.0597   5.5696  \n",
       "69412 1998-02-14 00:20:00 1998-02-14  23.0532   4.3264  \n",
       "\n",
       "[5 rows x 25 columns]"
      ]
     },
     "execution_count": 7,
     "metadata": {},
     "output_type": "execute_result"
    }
   ],
   "source": [
    "df_train.head()"
   ]
  },
  {
   "cell_type": "code",
   "execution_count": 8,
   "id": "3f7c5e65-890f-4155-b493-09b69a815e1c",
   "metadata": {
    "tags": []
   },
   "outputs": [],
   "source": [
    "feature_keys = ['Field magnitude average nT', 'BX nT (GSE GSM)', 'BY nT (GSE)', 'BZ nT (GSE)', 'BY nT (GSM)', 'BZ nT (GSM)', 'Speed km/s', 'Vx Velocity km/s', 'Vy Velocity km/s', 'Vz Velocity km/s', 'Proton Density n/cc', 'SYM/H nT', 'B**2', 'BY**2']\n",
    "titles = feature_keys\n",
    "\n",
    "colors = [\n",
    "    \"blue\",\n",
    "    \"orange\",\n",
    "    \"green\",\n",
    "    \"red\",\n",
    "    \"purple\",\n",
    "    \"brown\",\n",
    "    \"pink\",\n",
    "    \"gray\",\n",
    "    \"olive\",\n",
    "    \"cyan\",\n",
    "]\n",
    "\n",
    "date_time_key = \"time\""
   ]
  },
  {
   "cell_type": "code",
   "execution_count": 9,
   "id": "f1b177b7-25a6-4f3a-ac15-804300ac281b",
   "metadata": {
    "tags": []
   },
   "outputs": [],
   "source": [
    "# Create a few plots with the values for all data\n",
    "def show_raw_visualization(df_train):\n",
    "    time_data = df_train[date_time_key]\n",
    "    fig, axes = plt.subplots(\n",
    "        nrows=7, ncols=2, figsize=(15, 20), dpi=80, facecolor=\"w\", edgecolor=\"k\"\n",
    "    )\n",
    "    for i in range(len(feature_keys)):\n",
    "        key = feature_keys[i]\n",
    "        c = colors[i % (len(colors))]\n",
    "        t_data = df_train[key]\n",
    "        t_data.index = time_data\n",
    "        t_data.head()\n",
    "        ax = t_data.plot(\n",
    "            ax=axes[i // 2, i % 2],\n",
    "            color=c,\n",
    "            title=\"{} - {}\".format(titles[i], key),\n",
    "            rot=25,\n",
    "        )\n",
    "        ax.legend([titles[i]])\n",
    "    plt.tight_layout()\n",
    "    plt.savefig('All_Variables.png')\n",
    "    plt.close(fig)\n",
    "\n",
    "\n",
    "show_raw_visualization(df_train)\n"
   ]
  },
  {
   "cell_type": "code",
   "execution_count": 10,
   "id": "721c2892-1877-4c20-9577-1f19fa431bf9",
   "metadata": {
    "tags": []
   },
   "outputs": [
    {
     "data": {
      "image/png": "[encoded data removed]",
      "text/plain": [
       "<Figure size 1500x1000 with 2 Axes>"
      ]
     },
     "metadata": {},
     "output_type": "display_data"
    }
   ],
   "source": [
    "\n",
    "df = df_train\n",
    "non_floats = []\n",
    "for col in df:\n",
    "    if df[col].dtypes != \"float64\":\n",
    "        non_floats.append(col)\n",
    "df = df.drop(columns=non_floats)\n",
    "\n",
    "# Plot correlations between variables\n",
    "def show_heatmap(df):\n",
    "    plt.figure(figsize=(15,10))\n",
    "    plt.matshow(df.corr(), fignum=1)\n",
    "    plt.xticks(range(df.shape[1]), df.columns, fontsize=14, rotation=90)\n",
    "    plt.gca().xaxis.tick_bottom()\n",
    "    plt.yticks(range(df.shape[1]), df.columns, fontsize=14)\n",
    "\n",
    "    cb = plt.colorbar()\n",
    "    cb.ax.tick_params(labelsize=14)\n",
    "    plt.title(\"Feature Correlation Heatmap\", fontsize=14)\n",
    "    plt.savefig('Heatmap.png')\n",
    "\n",
    "\n",
    "show_heatmap(df)"
   ]
  },
  {
   "cell_type": "code",
   "execution_count": 11,
   "id": "51c88581-bb03-4422-a186-d075f33920fa",
   "metadata": {
    "tags": []
   },
   "outputs": [],
   "source": [
    "# Data Normalization to make training easier\n",
    "def normalize(df_train):\n",
    "    data_mean = df_train.mean(axis=0)\n",
    "    data_std = df_train.std(axis=0)\n",
    "    return data_mean, data_std, (df_train - data_mean) / data_std\n"
   ]
  },
  {
   "cell_type": "code",
   "execution_count": null,
   "id": "4aa92719-7c0c-49b3-a6a8-90eec0f6fc33",
   "metadata": {},
   "outputs": [],
   "source": []
  },
  {
   "cell_type": "code",
   "execution_count": 12,
   "id": "07cf5722-b499-4aac-bfdd-4083a7204b67",
   "metadata": {
    "tags": []
   },
   "outputs": [],
   "source": [
    "# Check when a new Storm starts\n",
    "interface = [0]\n",
    "\n",
    "def checkBreaks(df_train) :\n",
    "\n",
    "  storms = df_train['Dataset'].unique()\n",
    "  for st in storms :\n",
    "\n",
    "    features = df_train.loc[df_train['Dataset'] == st]\n",
    "    interface.append(interface[-1]+features.shape[0])\n",
    "\n",
    "  return interface"
   ]
  },
  {
   "cell_type": "code",
   "execution_count": 13,
   "id": "fdde1633-c75d-4960-94ea-fedec9688386",
   "metadata": {},
   "outputs": [
    {
     "name": "stdout",
     "output_type": "stream",
     "text": [
      "Index 0, Column Type, Data Type: object\n",
      "Index 1, Column Dataset, Data Type: object\n",
      "Index 2, Column Year, Data Type: int64\n",
      "Index 3, Column Day, Data Type: int64\n",
      "Index 4, Column Hour, Data Type: int64\n",
      "Index 5, Column Minute, Data Type: int64\n",
      "Index 6, Column Field magnitude average nT, Data Type: float64\n",
      "Index 7, Column BX nT (GSE GSM), Data Type: float64\n",
      "Index 8, Column BY nT (GSE), Data Type: float64\n",
      "Index 9, Column BZ nT (GSE), Data Type: float64\n",
      "Index 10, Column BY nT (GSM), Data Type: float64\n",
      "Index 11, Column BZ nT (GSM), Data Type: float64\n",
      "Index 12, Column Speed km/s, Data Type: float64\n",
      "Index 13, Column Vx Velocity km/s, Data Type: float64\n",
      "Index 14, Column Vy Velocity km/s, Data Type: float64\n",
      "Index 15, Column Vz Velocity km/s, Data Type: float64\n",
      "Index 16, Column Proton Density n/cc, Data Type: float64\n",
      "Index 17, Column SYM/H nT, Data Type: float64\n",
      "Index 18, Column Date, Data Type: datetime64[ns]\n",
      "Index 19, Column month, Data Type: int32\n",
      "Index 20, Column day, Data Type: int32\n",
      "Index 21, Column time, Data Type: datetime64[ns]\n",
      "Index 22, Column date, Data Type: datetime64[ns]\n",
      "Index 23, Column B**2, Data Type: float64\n",
      "Index 24, Column BY**2, Data Type: float64\n"
     ]
    }
   ],
   "source": [
    "\n",
    "# Assuming `df` is your original DataFrame\n",
    "for i, col in enumerate(df_train.columns):\n",
    "    print(f\"Index {i}, Column {col}, Data Type: {df_train[col].dtype}\")\n"
   ]
  },
  {
   "cell_type": "code",
   "execution_count": null,
   "id": "4056e542-4632-499b-9b23-9e46cf398c8a",
   "metadata": {},
   "outputs": [],
   "source": []
  },
  {
   "cell_type": "code",
   "execution_count": 14,
   "id": "75e24ef0-984a-49aa-aafc-b82e0843b2ed",
   "metadata": {
    "tags": []
   },
   "outputs": [],
   "source": [
    "def df_to_x_y(df,window_size=3): # using three days data to predict forth day\n",
    "    df_as_np = df.to_numpy()\n",
    "    x = []\n",
    "    y = []\n",
    "    for i in range(len(df_as_np) - window_size):\n",
    "        row = [ np.concatenate((a[2:18], a[23:25])) for a in df_as_np[i:i + window_size]]\n",
    "        x.append(row)\n",
    "        label = df_as_np[i + window_size][15]\n",
    "        y.append(label)\n",
    "    return np.array(x),np.array(y)"
   ]
  },
  {
   "cell_type": "code",
   "execution_count": 15,
   "id": "7094b6b9-a310-4043-8995-55a034fd853e",
   "metadata": {
    "tags": []
   },
   "outputs": [
    {
     "data": {
      "text/plain": [
       "((130173, 3, 18), (130173,))"
      ]
     },
     "execution_count": 15,
     "metadata": {},
     "output_type": "execute_result"
    }
   ],
   "source": [
    "x,y = df_to_x_y(df_train)\n",
    "x.shape,y.shape"
   ]
  },
  {
   "cell_type": "code",
   "execution_count": 16,
   "id": "72ad6fc2-aba6-4a86-a34b-e35defd97f51",
   "metadata": {
    "tags": []
   },
   "outputs": [
    {
     "data": {
      "text/plain": [
       "((60764, 3, 18), (60764,), (14688, 3, 18), (14688,), (54719, 3, 18), (54719,))"
      ]
     },
     "execution_count": 16,
     "metadata": {},
     "output_type": "execute_result"
    }
   ],
   "source": [
    "x_train, y_train = x[69409:],y[69409:]\n",
    "x_val, y_val = x[:14688],y[:14688]\n",
    "x_test, y_test = x[14689:69408],y[14689:69408]\n",
    "x_train.shape,y_train.shape,x_val.shape, y_val.shape,x_test.shape,y_test.shape"
   ]
  },
  {
   "cell_type": "code",
   "execution_count": null,
   "id": "d6da3a18-2d94-447f-b426-38f12fcab5a6",
   "metadata": {
    "tags": []
   },
   "outputs": [],
   "source": [
    "\n"
   ]
  },
  {
   "cell_type": "code",
   "execution_count": 17,
   "id": "385a3488-b1e9-4e44-a75c-87a46ced6c55",
   "metadata": {
    "tags": []
   },
   "outputs": [],
   "source": [
    "#normalize the input data features , prepocess data so that there are only float types "
   ]
  },
  {
   "cell_type": "code",
   "execution_count": 18,
   "id": "a4952fe2-1850-4e33-9d44-efdf04adbe7d",
   "metadata": {
    "tags": []
   },
   "outputs": [
    {
     "name": "stdout",
     "output_type": "stream",
     "text": [
      "Index 0: mean = 2008.8482654203146, std = 5.334602619614502\n",
      "Index 1: mean = 200.6685537489303, std = 90.29259927324199\n",
      "Index 2: mean = 11.5, std = 6.9217855452159815\n",
      "Index 3: mean = 27.5, std = 17.259690557230442\n",
      "Index 4: mean = 678.9040674302768, std = 2502.046906852632\n",
      "Index 5: mean = 672.289162003818, std = 2503.8209938388804\n",
      "Index 6: mean = 671.9726517345797, std = 2503.9073091606856\n",
      "Index 7: mean = 671.5722603844382, std = 2504.0144182314243\n",
      "Index 8: mean = 671.9562874399314, std = 2503.9114307757213\n",
      "Index 9: mean = 671.5581628376451, std = 2504.01846913756\n",
      "Index 10: mean = 9682.242234437057, std = 28782.47417305154\n",
      "Index 11: mean = 8757.89488128936, std = 29077.03786362974\n",
      "Index 12: mean = 9217.748617602529, std = 28930.254670031278\n",
      "Index 13: mean = 9217.547219296512, std = 28930.31581023746\n",
      "Index 14: mean = 96.85091106576263, std = 287.8526283554779\n"
     ]
    }
   ],
   "source": [
    " # Define numerical indices based on the DataFrame structure\n",
    "numerical_indices = [ 0, 1, 2, 3, 4, 5, 6, 7, 8, 9, 10, 11, 12, 13, 14] \n",
    "    \n",
    "def calculate_stats_for_3d_array(x, numerical_indices):\n",
    "    stats = {}\n",
    "    for i in numerical_indices:\n",
    "        try:\n",
    "            # Flatten to get all data for the ith feature and convert to float\n",
    "            data = x[:, :, i].astype(float).flatten()\n",
    "            mean = np.mean(data)\n",
    "            std = np.std(data)\n",
    "            stats[i] = {\n",
    "                'mean': mean,\n",
    "                'std': std\n",
    "            }\n",
    "            # Move the print statement inside the try block\n",
    "            print(f\"Index {i}: mean = {mean}, std = {std}\")\n",
    "        except Exception as e:\n",
    "            print(f\"Error processing index {i}: {e}\")\n",
    "    return stats\n",
    "\n",
    "\n",
    "\n",
    "def preprocess_3d_input(x, stats, numerical_indices):\n",
    "    x_processed = np.copy(x)\n",
    "    for i in numerical_indices:\n",
    "        if i in stats:  # Check if the index is in stats\n",
    "            x_processed[:, :, i] = (x_processed[:, :, i].astype(float) - stats[i]['mean']) / stats[i]['std']\n",
    "        else:\n",
    "            print(f\"Warning: Index {i} not found in stats. Skipping this index.\")\n",
    "    return x_processed\n",
    "\n",
    "\n",
    "# Assuming 'SYM/H nT' is the first column in the DataFrame, hence index 0 for y\n",
    "def preprocess_output(y):\n",
    "    y_mean = np.mean(y.astype(float))\n",
    "    y_std = np.std(y.astype(float))\n",
    "    return (y.astype(float) - y_mean) / y_std\n",
    "\n",
    "# Calculate stats using the training data\n",
    "stats = calculate_stats_for_3d_array(x_train, numerical_indices)\n"
   ]
  },
  {
   "cell_type": "code",
   "execution_count": 19,
   "id": "9b98ce72-1caf-43a4-b37b-299200122a6f",
   "metadata": {
    "tags": []
   },
   "outputs": [],
   "source": [
    "# Now you can preprocess the datasets\n",
    "x_train_processed = preprocess_3d_input(x_train, stats, numerical_indices)\n",
    "y_train_processed = preprocess_output(y_train)\n",
    "\n",
    "# Do similar preprocessing for validation and test sets using the stats from training\n",
    "x_val_processed = preprocess_3d_input(x_val, stats, numerical_indices)\n",
    "y_val_processed = preprocess_output(y_val)\n",
    "\n",
    "x_test_processed = preprocess_3d_input(x_test, stats, numerical_indices)\n",
    "y_test_processed = preprocess_output(y_test)"
   ]
  },
  {
   "cell_type": "code",
   "execution_count": null,
   "id": "ae4608b3-0962-4790-ac70-36b3f0aa8014",
   "metadata": {
    "tags": []
   },
   "outputs": [],
   "source": []
  },
  {
   "cell_type": "code",
   "execution_count": 20,
   "id": "4ff267c6-919e-45bf-a6cb-88934d16e7df",
   "metadata": {
    "tags": []
   },
   "outputs": [
    {
     "name": "stdout",
     "output_type": "stream",
     "text": [
      "object\n",
      "float64\n"
     ]
    }
   ],
   "source": [
    "print(x_train.dtype)\n",
    "print(y_train.dtype)\n"
   ]
  },
  {
   "cell_type": "code",
   "execution_count": 21,
   "id": "1ae237b6-de5d-43a8-855b-9b897859ee83",
   "metadata": {},
   "outputs": [
    {
     "name": "stdout",
     "output_type": "stream",
     "text": [
      "object\n",
      "float64\n"
     ]
    }
   ],
   "source": [
    "print(x_train_processed.dtype)\n",
    "print(y_train_processed.dtype)"
   ]
  },
  {
   "cell_type": "code",
   "execution_count": 22,
   "id": "fb55dd52-d536-4dec-8ef3-b71d9e8666dd",
   "metadata": {},
   "outputs": [
    {
     "ename": "TypeError",
     "evalue": "ufunc 'isnan' not supported for the input types, and the inputs could not be safely coerced to any supported types according to the casting rule ''safe''",
     "output_type": "error",
     "traceback": [
      "\u001b[0;31m---------------------------------------------------------------------------\u001b[0m",
      "\u001b[0;31mTypeError\u001b[0m                                 Traceback (most recent call last)",
      "Cell \u001b[0;32mIn[22], line 1\u001b[0m\n\u001b[0;32m----> 1\u001b[0m \u001b[38;5;28;01mif\u001b[39;00m np\u001b[38;5;241m.\u001b[39many(\u001b[43mnp\u001b[49m\u001b[38;5;241;43m.\u001b[39;49m\u001b[43misnan\u001b[49m\u001b[43m(\u001b[49m\u001b[43mx_train_processed\u001b[49m\u001b[43m)\u001b[49m) \u001b[38;5;129;01mor\u001b[39;00m np\u001b[38;5;241m.\u001b[39many(np\u001b[38;5;241m.\u001b[39misnan(y_train_processed)):\n\u001b[1;32m      2\u001b[0m     \u001b[38;5;28mprint\u001b[39m(\u001b[38;5;124m\"\u001b[39m\u001b[38;5;124mNaN values found\u001b[39m\u001b[38;5;124m\"\u001b[39m)\n\u001b[1;32m      3\u001b[0m \u001b[38;5;28;01mif\u001b[39;00m np\u001b[38;5;241m.\u001b[39many(np\u001b[38;5;241m.\u001b[39misinf(x_train_processed)) \u001b[38;5;129;01mor\u001b[39;00m np\u001b[38;5;241m.\u001b[39many(np\u001b[38;5;241m.\u001b[39misinf(y_train_processed)):\n",
      "\u001b[0;31mTypeError\u001b[0m: ufunc 'isnan' not supported for the input types, and the inputs could not be safely coerced to any supported types according to the casting rule ''safe''"
     ]
    }
   ],
   "source": [
    "if np.any(np.isnan(x_train_processed)) or np.any(np.isnan(y_train_processed)):\n",
    "    print(\"NaN values found\")\n",
    "if np.any(np.isinf(x_train_processed)) or np.any(np.isinf(y_train_processed)):\n",
    "    print(\"Infinite values found\")\n"
   ]
  },
  {
   "cell_type": "code",
   "execution_count": null,
   "id": "7bfa1362-9aa3-46ea-b6b0-0d5a805d18e9",
   "metadata": {},
   "outputs": [],
   "source": []
  },
  {
   "cell_type": "code",
   "execution_count": null,
   "id": "5adfc443-aa53-4275-80ca-c85964eb3642",
   "metadata": {},
   "outputs": [],
   "source": []
  },
  {
   "cell_type": "code",
   "execution_count": 23,
   "id": "33f462d8-8aa8-4cba-8c1e-131e6005da07",
   "metadata": {},
   "outputs": [
    {
     "name": "stderr",
     "output_type": "stream",
     "text": [
      "2023-12-23 02:32:09.782040: I tensorflow/core/util/port.cc:110] oneDNN custom operations are on. You may see slightly different numerical results due to floating-point round-off errors from different computation orders. To turn them off, set the environment variable `TF_ENABLE_ONEDNN_OPTS=0`.\n",
      "2023-12-23 02:32:09.819022: I tensorflow/core/platform/cpu_feature_guard.cc:182] This TensorFlow binary is optimized to use available CPU instructions in performance-critical operations.\n",
      "To enable the following instructions: SSE4.1 SSE4.2 AVX AVX2 AVX512F AVX512_VNNI FMA, in other operations, rebuild TensorFlow with the appropriate compiler flags.\n"
     ]
    }
   ],
   "source": [
    "from sklearn.model_selection import train_test_split\n",
    "from sklearn.preprocessing import MinMaxScaler\n",
    "from keras.models import Sequential\n",
    "from keras.layers import LSTM, Dense\n",
    "from keras.callbacks import ModelCheckpoint\n",
    "import tensorflow as tf\n",
    "from tensorflow import keras\n",
    "from tensorflow.keras.models import Model, load_model\n",
    "from tensorflow.keras.layers import *\n",
    "from tensorflow.keras import Sequential\n"
   ]
  },
  {
   "cell_type": "code",
   "execution_count": 24,
   "id": "a02ff2ad-5f76-4c2c-9619-2427911d4476",
   "metadata": {
    "tags": []
   },
   "outputs": [],
   "source": [
    "# set hyperparameters\n",
    "n_neuron       = 64\n",
    "activation     = 'relu'\n",
    "num_epochs     = 10\n",
    "learning_rate  = 0.001\n",
    "minibatch_size = 64\n",
    "model_num      = 1"
   ]
  },
  {
   "cell_type": "code",
   "execution_count": 25,
   "id": "a4c9fb75-2c26-436b-af97-71a7bc3a064c",
   "metadata": {
    "tags": []
   },
   "outputs": [
    {
     "name": "stdout",
     "output_type": "stream",
     "text": [
      "Model: \"sequential\"\n",
      "_________________________________________________________________\n",
      " Layer (type)                Output Shape              Param #   \n",
      "=================================================================\n",
      " lstm (LSTM)                 (None, 3, 64)             21248     \n",
      "                                                                 \n",
      " lstm_1 (LSTM)               (None, 64)                33024     \n",
      "                                                                 \n",
      " dense (Dense)               (None, 64)                4160      \n",
      "                                                                 \n",
      " dense_1 (Dense)             (None, 60764)             3949660   \n",
      "                                                                 \n",
      "=================================================================\n",
      "Total params: 4,008,092\n",
      "Trainable params: 4,008,092\n",
      "Non-trainable params: 0\n",
      "_________________________________________________________________\n"
     ]
    }
   ],
   "source": [
    "lstm_model = Sequential()\n",
    "lstm_model.add(LSTM(n_neuron,input_shape=(x_train.shape[1],x_train.shape[2]),\n",
    "               return_sequences=True,activation=activation))\n",
    "lstm_model.add(LSTM(n_neuron,return_sequences=False,\n",
    "               activation=activation))\n",
    "lstm_model.add(Dense(n_neuron,activation=activation))\n",
    "lstm_model.add(Dense(y_train.shape[-1],activation='linear')) \n",
    "\n",
    "lstm_model.compile(loss='mse',optimizer=tf.keras.optimizers.Adam(learning_rate=learning_rate))\n",
    "\n",
    "lstm_model.summary()"
   ]
  },
  {
   "cell_type": "code",
   "execution_count": null,
   "id": "c423fada-0e17-4930-9f79-ca01f86b2d19",
   "metadata": {
    "tags": []
   },
   "outputs": [],
   "source": [
    "\n"
   ]
  },
  {
   "cell_type": "code",
   "execution_count": 26,
   "id": "3c54abef-2d85-41ad-8264-d8fddca66a80",
   "metadata": {
    "tags": []
   },
   "outputs": [],
   "source": [
    "# import numpy as np\n",
    "# import tensorflow as tf\n",
    "\n",
    "# def convert_to_tensor(arr):\n",
    "#     # Convert to float32 if not already\n",
    "#     arr_float = arr.astype(np.float32)\n",
    "\n",
    "#     # Check for NaNs and Infs and replace them\n",
    "#     arr_float = np.nan_to_num(arr_float, nan=0.0, posinf=0.0, neginf=0.0)\n",
    "\n",
    "#     # Convert to TensorFlow tensor\n",
    "#     tensor = tf.convert_to_tensor(arr_float, dtype=tf.float32)\n",
    "#     return tensor\n",
    "\n",
    "# # Convert x_train_processed and y_train_processed to tensors\n",
    "# x_train_tensor = convert_to_tensor(x_train_processed)\n",
    "# y_train_tensor = convert_to_tensor(y_train_processed)\n"
   ]
  },
  {
   "cell_type": "code",
   "execution_count": 27,
   "id": "1b59aaa8-69aa-452f-974e-088074bae20e",
   "metadata": {
    "tags": []
   },
   "outputs": [],
   "source": [
    "early_stop = keras.callbacks.EarlyStopping(monitor='val_loss', patience=20)\n",
    "\n",
    "# history = lstm_model.fit(x_train_tensor, y_train_tensor, \n",
    "#                         batch_size = minibatch_size,\n",
    "#                         epochs = num_epochs,\n",
    "#                         validation_split=0.2, verbose=1,\n",
    "#                         callbacks=[early_stop],\n",
    "#                         shuffle=False)\n"
   ]
  },
  {
   "cell_type": "code",
   "execution_count": null,
   "id": "0e733f1a-ad6a-4584-abf5-ae1894f6494b",
   "metadata": {},
   "outputs": [],
   "source": []
  },
  {
   "cell_type": "code",
   "execution_count": 28,
   "id": "4afd56d9-134c-4be5-91d6-b9c751efb05d",
   "metadata": {
    "tags": []
   },
   "outputs": [
    {
     "name": "stdout",
     "output_type": "stream",
     "text": [
      "Epoch 1/10\n",
      "760/760 [==============================] - 39s 48ms/step - loss: 452430624.0000 - val_loss: 6971642.0000\n",
      "Epoch 2/10\n",
      "760/760 [==============================] - 36s 47ms/step - loss: 17353652.0000 - val_loss: 1.2858\n",
      "Epoch 3/10\n",
      "760/760 [==============================] - 35s 46ms/step - loss: 0.9252 - val_loss: 1.2857\n",
      "Epoch 4/10\n",
      "760/760 [==============================] - 36s 47ms/step - loss: 0.9253 - val_loss: 1.2856\n",
      "Epoch 5/10\n",
      "760/760 [==============================] - 36s 47ms/step - loss: 0.9262 - val_loss: 1.2903\n",
      "Epoch 6/10\n",
      "760/760 [==============================] - 36s 47ms/step - loss: 0.9276 - val_loss: 1.2903\n",
      "Epoch 7/10\n",
      "760/760 [==============================] - 35s 46ms/step - loss: 0.9276 - val_loss: 1.2903\n",
      "Epoch 8/10\n",
      "760/760 [==============================] - 36s 47ms/step - loss: 0.9276 - val_loss: 1.2903\n",
      "Epoch 9/10\n",
      "760/760 [==============================] - 36s 48ms/step - loss: 0.9276 - val_loss: 1.2903\n",
      "Epoch 10/10\n",
      "760/760 [==============================] - 36s 47ms/step - loss: 0.9276 - val_loss: 1.2903\n"
     ]
    }
   ],
   "source": [
    "import numpy as np\n",
    "import tensorflow as tf\n",
    "\n",
    "# Function to convert array to float, handling non-numeric values\n",
    "def convert_to_float(array):\n",
    "    # Attempt to convert to float, setting non-convertible values to NaN\n",
    "    array_float = pd.to_numeric(array.flatten(), errors='coerce')\n",
    "    if np.any(np.isnan(array_float)):\n",
    "        print(\"Warning: NaN values found after conversion. Original non-numeric values will be set to NaN.\")\n",
    "    return array_float.reshape(array.shape)\n",
    "\n",
    "# Convert arrays to float, handling non-numeric values\n",
    "x_train_processed_float = convert_to_float(x_train_processed)\n",
    "y_train_processed_float = convert_to_float(y_train_processed)\n",
    "\n",
    "# Check for NaNs and Infs\n",
    "if np.any(np.isnan(x_train_processed_float)) or np.any(np.isnan(y_train_processed_float)):\n",
    "    raise ValueError(\"NaN values found in processed data.\")\n",
    "if np.any(np.isinf(x_train_processed_float)) or np.any(np.isinf(y_train_processed_float)):\n",
    "    raise ValueError(\"Infinite values found in processed data.\")\n",
    "\n",
    "# Convert to TensorFlow tensors\n",
    "x_train_tensor = tf.convert_to_tensor(x_train_processed_float, dtype=tf.float32)\n",
    "y_train_tensor = tf.convert_to_tensor(y_train_processed_float, dtype=tf.float32)\n",
    "\n",
    "# Fit the model\n",
    "history = lstm_model.fit(x_train_tensor, y_train_tensor, \n",
    "                         batch_size=minibatch_size,\n",
    "                         epochs=num_epochs,\n",
    "                         validation_split=0.2, verbose=1,\n",
    "                         callbacks=[early_stop],\n",
    "                         shuffle=False)\n"
   ]
  },
  {
   "cell_type": "code",
   "execution_count": 30,
   "id": "1e1ff0ea-f509-4dfe-95ae-570f8a96b263",
   "metadata": {
    "tags": []
   },
   "outputs": [],
   "source": [
    "def plot_history(history):\n",
    "    plt.figure()\n",
    "    plt.xlabel('Epoch')\n",
    "    plt.ylabel('Mean squared error')\n",
    "    plt.plot(history.epoch, np.array(history.history['loss']),\n",
    "           label='Train Loss')\n",
    "    plt.plot(history.epoch, np.array(history.history['val_loss']),\n",
    "           label = 'Val loss')\n",
    "    plt.legend()\n",
    "    "
   ]
  },
  {
   "cell_type": "code",
   "execution_count": 31,
   "id": "86c3c48c-5538-48f3-accd-728afdd324ce",
   "metadata": {
    "tags": []
   },
   "outputs": [
    {
     "data": {
      "image/png": "[encoded data removed]",
      "text/plain": [
       "<Figure size 640x480 with 1 Axes>"
      ]
     },
     "metadata": {},
     "output_type": "display_data"
    }
   ],
   "source": [
    "plot_history(history)"
   ]
  },
  {
   "cell_type": "code",
   "execution_count": null,
   "id": "7572c563-942d-4760-914b-88d8c007cf89",
   "metadata": {},
   "outputs": [],
   "source": []
  },
  {
   "cell_type": "code",
   "execution_count": 32,
   "id": "531a37a0-fe29-4db8-9217-8d98dc0fbafc",
   "metadata": {
    "tags": []
   },
   "outputs": [],
   "source": [
    "def make_dir(path):\n",
    "    if os.path.exists(path) is False:\n",
    "        os.makedirs(path)"
   ]
  },
  {
   "cell_type": "code",
   "execution_count": null,
   "id": "f67c45d1-0dff-4ef4-ae1f-5633d52a7afb",
   "metadata": {},
   "outputs": [],
   "source": []
  },
  {
   "cell_type": "code",
   "execution_count": null,
   "id": "166674f3-eee6-4c7e-930a-d31b8e390f59",
   "metadata": {},
   "outputs": [],
   "source": []
  },
  {
   "cell_type": "code",
   "execution_count": 33,
   "id": "beb5ca74-e832-44ab-850f-86a25cff0a96",
   "metadata": {},
   "outputs": [],
   "source": [
    "model_path = os.path.join(cwd,'saved_model')\n",
    "make_dir(model_path)"
   ]
  },
  {
   "cell_type": "code",
   "execution_count": 34,
   "id": "ef70d140-3e05-4457-9477-0da5cb23fd2d",
   "metadata": {
    "tags": []
   },
   "outputs": [],
   "source": [
    "# Save the entire model to a HDF5 file.\n",
    "# The '.h5' extension indicates that the model should be saved to HDF5.\n",
    "lstm_model.save(os.path.join(model_path,'LSTM_model.h5'))"
   ]
  },
  {
   "cell_type": "code",
   "execution_count": 35,
   "id": "26212020-84ad-4852-be8e-dfc98eda8527",
   "metadata": {},
   "outputs": [],
   "source": [
    "# reload the saved model\n",
    "lstm_model = load_model(os.path.join(model_path,'LSTM_model.h5'))"
   ]
  },
  {
   "cell_type": "code",
   "execution_count": 36,
   "id": "0a28d64a-c4e8-42e6-ba71-f6285033ba10",
   "metadata": {},
   "outputs": [],
   "source": [
    "# y_test_pre = lstm_model.predict(X_test)\n",
    "# y_test_pre = y_test_pre.reshape(y_test_pre.shape[0], 96, 144)\n",
    "\n",
    "# y_test_pre = xr.Dataset(coords={'time': X_test_xr.time.values[slider-1:], \n",
    "#                                'latitude': X_test_xr.latitude.values, \n",
    "#                                'longitude': X_test_xr.longitude.values},\n",
    "#                        data_vars=dict(tas=(['time', 'latitude', 'longitude'], y_test_pre)))"
   ]
  },
  {
   "cell_type": "code",
   "execution_count": null,
   "id": "f5eae295-347d-4268-8bc6-655aecb94821",
   "metadata": {},
   "outputs": [],
   "source": []
  },
  {
   "cell_type": "code",
   "execution_count": null,
   "id": "b37de74e-587b-4bb3-b889-22cb26cb195b",
   "metadata": {},
   "outputs": [],
   "source": []
  },
  {
   "cell_type": "code",
   "execution_count": null,
   "id": "4a3b0446-c9f6-4589-8d71-968d9c392405",
   "metadata": {},
   "outputs": [],
   "source": []
  },
  {
   "cell_type": "code",
   "execution_count": 37,
   "id": "25d10e3f-700e-4440-a9e5-a15391df71e1",
   "metadata": {
    "tags": []
   },
   "outputs": [],
   "source": [
    "symh_train_mean = np.mean(y_train.astype(float))\n",
    "symh_train_std = np.std(y_train.astype(float))"
   ]
  },
  {
   "cell_type": "code",
   "execution_count": null,
   "id": "39895e2d-ebc4-4daf-8004-cefc38167914",
   "metadata": {},
   "outputs": [],
   "source": []
  },
  {
   "cell_type": "code",
   "execution_count": 38,
   "id": "c88298a7-9f81-4fba-90eb-74696c0e3d67",
   "metadata": {
    "tags": []
   },
   "outputs": [],
   "source": [
    "def postprocess_symh(arr):\n",
    "    arr = (arr * symh_train_std) + symh_train_mean\n",
    "    return arr\n"
   ]
  },
  {
   "cell_type": "code",
   "execution_count": 39,
   "id": "fb12b5aa-123a-4910-8081-30ac06976d5a",
   "metadata": {
    "tags": []
   },
   "outputs": [],
   "source": [
    "def plot_predictions_symh(model, x, y, start=600, end=800):\n",
    "    prediction = model.predict(x)\n",
    "    symh_prediction = postprocess_symh(prediction[:, 0])\n",
    "\n",
    "    # Check if y is 1D or 2D and handle accordingly\n",
    "    if y.ndim > 1:\n",
    "        symh_actual = postprocess_symh(y[:, 0])  # For 2D y\n",
    "    else:\n",
    "        symh_actual = postprocess_symh(y)  # For 1D y\n",
    "\n",
    "    df = pd.DataFrame(data={\n",
    "        'SYM/H Prediction': symh_prediction,\n",
    "        'SYM/H Actual': symh_actual,\n",
    "    })\n",
    "    plt.plot(df['SYM/H Prediction'][start:end], color='green', linewidth=2)\n",
    "    plt.plot(df['SYM/H Actual'][start:end], color='red')\n",
    "    plt.legend(['SYM/H Prediction', 'SYM/H Actual'], loc='upper left')\n",
    "    return df[start:end]\n",
    "\n"
   ]
  },
  {
   "cell_type": "code",
   "execution_count": 40,
   "id": "98c7e93f-a43d-45f4-91b2-bcee6ce2a774",
   "metadata": {
    "tags": []
   },
   "outputs": [],
   "source": [
    "x_test_float = x_test.astype(np.float32)"
   ]
  },
  {
   "cell_type": "code",
   "execution_count": 41,
   "id": "e6b6571e-9fc1-4c6a-8389-5cbd0525a25c",
   "metadata": {
    "tags": []
   },
   "outputs": [
    {
     "name": "stdout",
     "output_type": "stream",
     "text": [
      "32/32 [==============================] - 0s 4ms/step\n"
     ]
    },
    {
     "data": {
      "text/plain": [
       "Text(0.5, 1.0, 'Test Data Comparison for SYM/H nT (Subset)')"
      ]
     },
     "execution_count": 41,
     "metadata": {},
     "output_type": "execute_result"
    },
    {
     "data": {
      "image/png": "[encoded data removed]",
      "text/plain": [
       "<Figure size 640x480 with 1 Axes>"
      ]
     },
     "metadata": {},
     "output_type": "display_data"
    }
   ],
   "source": [
    "# Define the size of the subset you want to use\n",
    "subset_size = 1000\n",
    "\n",
    "# Select a subset of the test data\n",
    "x_test_subset = x_test_float[:subset_size]\n",
    "y_test_subset = y_test[:subset_size]\n",
    "\n",
    "# Generate predictions and plot for the subset\n",
    "post_processed_df = plot_predictions_symh(lstm_model, x_test_subset, y_test_subset)\n",
    "plt.title('Test Data Comparison for SYM/H nT (Subset)', fontsize=16)\n"
   ]
  },
  {
   "cell_type": "code",
   "execution_count": 42,
   "id": "85e78a47-b7a7-4de2-afa2-65695d8eefda",
   "metadata": {
    "tags": []
   },
   "outputs": [
    {
     "name": "stdout",
     "output_type": "stream",
     "text": [
      "32/32 [==============================] - 0s 4ms/step\n"
     ]
    },
    {
     "data": {
      "text/plain": [
       "Text(0.5, 1.0, 'Train Data Comparison for SYM/H nT (Subset)')"
      ]
     },
     "execution_count": 42,
     "metadata": {},
     "output_type": "execute_result"
    },
    {
     "data": {
      "image/png": "[encoded data removed]",
      "text/plain": [
       "<Figure size 640x480 with 1 Axes>"
      ]
     },
     "metadata": {},
     "output_type": "display_data"
    }
   ],
   "source": [
    "# Define the size of the subset you want to use\n",
    "subset_size = 1000\n",
    "\n",
    "# Convert the entire x_train to float32\n",
    "x_train_float = x_train.astype(np.float32)\n",
    "\n",
    "# Create a subset of the training data\n",
    "x_train_subset = x_train_float[:subset_size]\n",
    "y_train_subset = y_train[:subset_size]\n",
    "\n",
    "# Generate predictions and plot for the subset\n",
    "post_processed_df = plot_predictions_symh(lstm_model, x_train_subset, y_train_subset)\n",
    "plt.title('Train Data Comparison for SYM/H nT (Subset)', fontsize=16)\n",
    "\n"
   ]
  },
  {
   "cell_type": "code",
   "execution_count": 43,
   "id": "882b21d5-7cd2-4497-b7e3-de12725af029",
   "metadata": {
    "tags": []
   },
   "outputs": [
    {
     "name": "stdout",
     "output_type": "stream",
     "text": [
      "32/32 [==============================] - 0s 4ms/step\n"
     ]
    },
    {
     "data": {
      "text/plain": [
       "Text(0.5, 1.0, 'Validation Data Comparison for SYM/H nT (Subset)')"
      ]
     },
     "execution_count": 43,
     "metadata": {},
     "output_type": "execute_result"
    },
    {
     "data": {
      "image/png": "[encoded data removed]",
      "text/plain": [
       "<Figure size 640x480 with 1 Axes>"
      ]
     },
     "metadata": {},
     "output_type": "display_data"
    }
   ],
   "source": [
    "\n",
    "# Define the size of the subset you want to use for validation data\n",
    "subset_size = 1000\n",
    "\n",
    "# Convert the validation data to float32\n",
    "x_val_float = x_val.astype(np.float32)\n",
    "\n",
    "# Create a subset of the validation data\n",
    "x_val_subset = x_val_float[:subset_size]\n",
    "y_val_subset = y_val[:subset_size]\n",
    "\n",
    "# Generate predictions and plot for the validation subset\n",
    "post_processed_df = plot_predictions_symh(lstm_model, x_val_subset, y_val_subset)\n",
    "plt.title('Validation Data Comparison for SYM/H nT (Subset)', fontsize=16)\n"
   ]
  },
  {
   "cell_type": "code",
   "execution_count": null,
   "id": "3dc22481-8d2d-48d5-95e6-591081cc6537",
   "metadata": {},
   "outputs": [],
   "source": []
  },
  {
   "cell_type": "code",
   "execution_count": 44,
   "id": "92aef415-33ae-4b0a-90e0-76f05e10ff79",
   "metadata": {},
   "outputs": [],
   "source": [
    "x_test_float = x_test.astype('float32')\n"
   ]
  },
  {
   "cell_type": "code",
   "execution_count": 45,
   "id": "7c3c79d2-bee3-4303-b0a7-52495f966fa3",
   "metadata": {
    "tags": []
   },
   "outputs": [
    {
     "name": "stdout",
     "output_type": "stream",
     "text": [
      "32/32 [==============================] - 0s 4ms/step\n",
      "The predictions and actual values have different lengths.\n"
     ]
    }
   ],
   "source": [
    "# Generate predictions for the subset\n",
    "SYM_H_predict_subset = lstm_model.predict(x_test_subset)\n",
    "\n",
    "# If your predictions are more than 1-dimensional, you may need to flatten or reshape them\n",
    "SYM_H_predict_subset = SYM_H_predict_subset.flatten()\n",
    "\n",
    "# Ensure that y_test_subset is also a 1D array\n",
    "y_test_subset = y_test_subset.flatten()\n",
    "\n",
    "# Now both arrays should have the same length\n",
    "if len(SYM_H_predict_subset) == len(y_test_subset):\n",
    "    # Create a scatter plot for predicted vs. actual values of the subset\n",
    "    plt.scatter(SYM_H_predict_subset, y_test_subset, color='yellow')\n",
    "    plt.xlabel('Predicted SYM/H nT')\n",
    "    plt.ylabel('True SYM/H nT')\n",
    "    plt.title('Prediction vs. True Values for Geomagnetic Storms (Subset)')\n",
    "    plt.show()\n",
    "else:\n",
    "    print(\"The predictions and actual values have different lengths.\")\n"
   ]
  },
  {
   "cell_type": "code",
   "execution_count": 46,
   "id": "35d865a8-9e48-4bf6-930d-c4b6c2d1778a",
   "metadata": {},
   "outputs": [],
   "source": [
    "# # Define the size of the subset you want to use\n",
    "# subset_size = 1000  # Adjust this value as needed based on your server's memory capacity\n",
    "\n",
    "# # Make sure to convert x_test to float if it hasn't been done previously\n",
    "# x_test_float = x_test.astype('float32')\n",
    "\n",
    "# # Select a subset of the test data\n",
    "# x_test_subset = x_test_float[:subset_size]\n",
    "# y_test_subset = y_test[:subset_size]\n",
    "\n",
    "# # Generate predictions for the subset\n",
    "# SYM_H_predict_subset = lstm_model.predict(x_test_subset)\n",
    "\n",
    "# # Create a scatter plot for predicted vs. actual values of the subset\n",
    "# plt.scatter(SYM_H_predict_subset, y_test_subset, color='yellow')\n",
    "# plt.xlabel('Predicted SYM/H nT')\n",
    "# plt.ylabel('True SYM/H nT')\n",
    "\n",
    "# # Set axis limits based on the subset data range\n",
    "# plt.xlim([min(SYM_H_predict_subset.min(), y_test_subset.min()), max(SYM_H_predict_subset.max(), y_test_subset.max())])\n",
    "# plt.ylim([min(SYM_H_predict_subset.min(), y_test_subset.min()), max(SYM_H_predict_subset.max(), y_test_subset.max())])\n",
    "\n",
    "# # Add a reference line indicating perfect predictions\n",
    "# plt.plot([min(SYM_H_predict_subset.min(), y_test_subset.min()), max(SYM_H_predict_subset.max(), y_test_subset.max())], \n",
    "#          [min(SYM_H_predict_subset.min(), y_test_subset.min()), max(SYM_H_predict_subset.max(), y_test_subset.max())], \n",
    "#          color='purple', linestyle='--')\n",
    "\n",
    "# # Show the plot\n",
    "# plt.title('Prediction vs. True Values for Geomagnetic Storms (Subset)')\n",
    "# plt.show()\n"
   ]
  },
  {
   "cell_type": "code",
   "execution_count": 47,
   "id": "641b9b19-6899-45fc-9fa6-fdba5db4c01e",
   "metadata": {},
   "outputs": [],
   "source": [
    "x_test_float = x_test.astype('float32')\n"
   ]
  },
  {
   "cell_type": "code",
   "execution_count": null,
   "id": "915aba3d-1d12-4ac1-b775-f36bb1796bab",
   "metadata": {},
   "outputs": [],
   "source": []
  },
  {
   "cell_type": "code",
   "execution_count": 51,
   "id": "b4aedfba-2097-434f-ac38-2439a19aa479",
   "metadata": {
    "tags": []
   },
   "outputs": [
    {
     "name": "stdout",
     "output_type": "stream",
     "text": [
      "(54719, 3, 18)\n"
     ]
    }
   ],
   "source": [
    "print(x_test_float.shape)  # Should be (1000, timesteps, features) if you're predicting on 1000 samples\n"
   ]
  },
  {
   "cell_type": "code",
   "execution_count": 50,
   "id": "49cae47c-1785-4b35-82fc-55ca1c4ce781",
   "metadata": {},
   "outputs": [
    {
     "name": "stdout",
     "output_type": "stream",
     "text": [
      "32/32 [==============================] - 0s 4ms/step\n"
     ]
    },
    {
     "ename": "ValueError",
     "evalue": "operands could not be broadcast together with shapes (60764000,) (1000,) ",
     "output_type": "error",
     "traceback": [
      "\u001b[0;31m---------------------------------------------------------------------------\u001b[0m",
      "\u001b[0;31mValueError\u001b[0m                                Traceback (most recent call last)",
      "Cell \u001b[0;32mIn[50], line 15\u001b[0m\n\u001b[1;32m     12\u001b[0m y_test_subset \u001b[38;5;241m=\u001b[39m y_test[:subset_size] \u001b[38;5;66;03m# Make sure this matches the preprocessing of y_train\u001b[39;00m\n\u001b[1;32m     14\u001b[0m \u001b[38;5;66;03m# Calculate the error between predictions and true labels for the subset\u001b[39;00m\n\u001b[0;32m---> 15\u001b[0m error_subset \u001b[38;5;241m=\u001b[39m \u001b[43mY_predict_subset\u001b[49m\u001b[43m \u001b[49m\u001b[38;5;241;43m-\u001b[39;49m\u001b[43m \u001b[49m\u001b[43my_test_subset\u001b[49m\n\u001b[1;32m     17\u001b[0m \u001b[38;5;66;03m# Plot a histogram of the prediction errors for the subset\u001b[39;00m\n\u001b[1;32m     18\u001b[0m plt\u001b[38;5;241m.\u001b[39mhist(error_subset, bins\u001b[38;5;241m=\u001b[39m\u001b[38;5;241m25\u001b[39m)  \u001b[38;5;66;03m# Fewer bins may be appropriate for smaller subsets\u001b[39;00m\n",
      "\u001b[0;31mValueError\u001b[0m: operands could not be broadcast together with shapes (60764000,) (1000,) "
     ]
    }
   ],
   "source": [
    "# Determine the size of the subset you want to use\n",
    "subset_size = 1000  # Adjust this number as needed\n",
    "\n",
    "# Make sure to use the same preprocessing steps on x_test as you did for your training data\n",
    "x_test_subset = x_test_float[:subset_size]\n",
    "\n",
    "# Generate predictions for the subset of the test dataset\n",
    "Y_predict_subset = lstm_model.predict(x_test_subset)\n",
    "\n",
    "# Flatten the predictions and true labels if they are multi-dimensional\n",
    "Y_predict_subset = Y_predict_subset.flatten()\n",
    "y_test_subset = y_test[:subset_size].flatten()\n",
    " # Make sure this matches the preprocessing of y_train\n",
    "\n",
    "# Calculate the error between predictions and true labels for the subset\n",
    "error_subset = Y_predict_subset - y_test_subset\n",
    "\n",
    "# Plot a histogram of the prediction errors for the subset\n",
    "plt.hist(error_subset, bins=25)  # Fewer bins may be appropriate for smaller subsets\n",
    "plt.xlabel(\"Prediction Error\")\n",
    "plt.ylabel(\"Count\")\n",
    "plt.title(\"Histogram of Prediction Errors for Geomagnetic Storms (Subset)\")\n",
    "plt.show()\n"
   ]
  },
  {
   "cell_type": "code",
   "execution_count": 52,
   "id": "a7ee2afa-f610-486a-a78d-37626aabd143",
   "metadata": {
    "tags": []
   },
   "outputs": [
    {
     "name": "stdout",
     "output_type": "stream",
     "text": [
      "(1000, 3, 18)\n",
      "32/32 [==============================] - 0s 3ms/step\n",
      "(1000, 60764)\n"
     ]
    }
   ],
   "source": [
    "# Use a subset of x_test for prediction\n",
    "x_test_subset = x_test_float[:subset_size]\n",
    "print(x_test_subset.shape)  # This should print (1000, timesteps, features) or whatever your subset_size is\n",
    "Y_predict_subset = lstm_model.predict(x_test_subset)\n",
    "print(Y_predict_subset.shape)  # This should print (1000, output_size)\n"
   ]
  },
  {
   "cell_type": "code",
   "execution_count": 53,
   "id": "53f546ea-a759-42ed-8cbe-0f817d796c5b",
   "metadata": {
    "tags": []
   },
   "outputs": [
    {
     "ename": "ValueError",
     "evalue": "operands could not be broadcast together with shapes (1000,60764) (1000,) ",
     "output_type": "error",
     "traceback": [
      "\u001b[0;31m---------------------------------------------------------------------------\u001b[0m",
      "\u001b[0;31mValueError\u001b[0m                                Traceback (most recent call last)",
      "Cell \u001b[0;32mIn[53], line 1\u001b[0m\n\u001b[0;32m----> 1\u001b[0m error_subset \u001b[38;5;241m=\u001b[39m \u001b[43mY_predict_subset\u001b[49m\u001b[43m \u001b[49m\u001b[38;5;241;43m-\u001b[39;49m\u001b[43m \u001b[49m\u001b[43my_test_subset\u001b[49m\n",
      "\u001b[0;31mValueError\u001b[0m: operands could not be broadcast together with shapes (1000,60764) (1000,) "
     ]
    }
   ],
   "source": [
    "error_subset = Y_predict_subset - y_test_subset\n"
   ]
  },
  {
   "cell_type": "code",
   "execution_count": 54,
   "id": "88aa8420-03c8-4c3e-af1e-853704dea8c1",
   "metadata": {
    "tags": []
   },
   "outputs": [
    {
     "name": "stdout",
     "output_type": "stream",
     "text": [
      "32/32 [==============================] - 0s 4ms/step\n"
     ]
    },
    {
     "ename": "ValueError",
     "evalue": "cannot reshape array of size 60764000 into shape (1000,)",
     "output_type": "error",
     "traceback": [
      "\u001b[0;31m---------------------------------------------------------------------------\u001b[0m",
      "\u001b[0;31mValueError\u001b[0m                                Traceback (most recent call last)",
      "Cell \u001b[0;32mIn[54], line 5\u001b[0m\n\u001b[1;32m      2\u001b[0m Y_predict_subset \u001b[38;5;241m=\u001b[39m lstm_model\u001b[38;5;241m.\u001b[39mpredict(x_test_subset)\n\u001b[1;32m      4\u001b[0m \u001b[38;5;66;03m# Assuming the model outputs one value per sample, reshape if necessary\u001b[39;00m\n\u001b[0;32m----> 5\u001b[0m Y_predict_subset \u001b[38;5;241m=\u001b[39m \u001b[43mY_predict_subset\u001b[49m\u001b[38;5;241;43m.\u001b[39;49m\u001b[43mreshape\u001b[49m\u001b[43m(\u001b[49m\u001b[43m(\u001b[49m\u001b[38;5;241;43m1000\u001b[39;49m\u001b[43m,\u001b[49m\u001b[43m)\u001b[49m\u001b[43m)\u001b[49m\n\u001b[1;32m      7\u001b[0m \u001b[38;5;66;03m# Calculate the error\u001b[39;00m\n\u001b[1;32m      8\u001b[0m error_subset \u001b[38;5;241m=\u001b[39m Y_predict_subset \u001b[38;5;241m-\u001b[39m y_test[:\u001b[38;5;241m1000\u001b[39m]\n",
      "\u001b[0;31mValueError\u001b[0m: cannot reshape array of size 60764000 into shape (1000,)"
     ]
    }
   ],
   "source": [
    "# Predict using the corrected model\n",
    "Y_predict_subset = lstm_model.predict(x_test_subset)\n",
    "\n",
    "# Assuming the model outputs one value per sample, reshape if necessary\n",
    "Y_predict_subset = Y_predict_subset.reshape((1000,))\n",
    "\n",
    "# Calculate the error\n",
    "error_subset = Y_predict_subset - y_test[:1000]\n"
   ]
  },
  {
   "cell_type": "code",
   "execution_count": 49,
   "id": "1f263d05-31e3-4ec2-8118-b657fdcd0a93",
   "metadata": {
    "tags": []
   },
   "outputs": [
    {
     "ename": "NameError",
     "evalue": "name 'Y_predict' is not defined",
     "output_type": "error",
     "traceback": [
      "\u001b[0;31m---------------------------------------------------------------------------\u001b[0m",
      "\u001b[0;31mNameError\u001b[0m                                 Traceback (most recent call last)",
      "Cell \u001b[0;32mIn[49], line 2\u001b[0m\n\u001b[1;32m      1\u001b[0m \u001b[38;5;28;01mfrom\u001b[39;00m \u001b[38;5;21;01msklearn\u001b[39;00m\u001b[38;5;21;01m.\u001b[39;00m\u001b[38;5;21;01mmetrics\u001b[39;00m \u001b[38;5;28;01mimport\u001b[39;00m r2_score\n\u001b[0;32m----> 2\u001b[0m r2_score(y_test,\u001b[43mY_predict\u001b[49m)\n",
      "\u001b[0;31mNameError\u001b[0m: name 'Y_predict' is not defined"
     ]
    }
   ],
   "source": [
    "from sklearn.metrics import r2_score\n",
    "r2_score(y_test,Y_predict)"
   ]
  },
  {
   "cell_type": "code",
   "execution_count": null,
   "id": "d62603e1-4b3b-445f-98c8-058eaa904434",
   "metadata": {},
   "outputs": [],
   "source": []
  },
  {
   "cell_type": "code",
   "execution_count": null,
   "id": "b226b19e-e3ec-4632-ad96-0116d541d710",
   "metadata": {},
   "outputs": [],
   "source": []
  }
 ],
 "metadata": {
  "kernelspec": {
   "display_name": "Python 3 (ipykernel)",
   "language": "python",
   "name": "python3"
  },
  "language_info": {
   "codemirror_mode": {
    "name": "ipython",
    "version": 3
   },
   "file_extension": ".py",
   "mimetype": "text/x-python",
   "name": "python",
   "nbconvert_exporter": "python",
   "pygments_lexer": "ipython3",
   "version": "3.10.12"
  }
 },
 "nbformat": 4,
 "nbformat_minor": 5
}
